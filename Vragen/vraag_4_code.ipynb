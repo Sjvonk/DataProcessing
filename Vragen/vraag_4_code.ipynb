{
 "cells": [
  {
   "cell_type": "code",
   "execution_count": 31,
   "metadata": {
    "scrolled": true
   },
   "outputs": [
    {
     "ename": "ParserError",
     "evalue": "Error tokenizing data. C error: out of memory",
     "output_type": "error",
     "traceback": [
      "\u001b[1;31m---------------------------------------------------------------------------\u001b[0m",
      "\u001b[1;31mParserError\u001b[0m                               Traceback (most recent call last)",
      "\u001b[1;32m<ipython-input-31-8b13c0eae061>\u001b[0m in \u001b[0;36m<module>\u001b[1;34m()\u001b[0m\n\u001b[0;32m     14\u001b[0m \u001b[1;33m\u001b[0m\u001b[0m\n\u001b[0;32m     15\u001b[0m \u001b[1;31m# !!! DIT WERKT WEL !!!\u001b[0m\u001b[1;33m\u001b[0m\u001b[1;33m\u001b[0m\u001b[0m\n\u001b[1;32m---> 16\u001b[1;33m \u001b[0mdf1\u001b[0m \u001b[1;33m=\u001b[0m \u001b[0mpd\u001b[0m\u001b[1;33m.\u001b[0m\u001b[0mread_csv\u001b[0m\u001b[1;33m(\u001b[0m\u001b[1;34m\"DataGuns.csv\"\u001b[0m\u001b[1;33m,\u001b[0m \u001b[0merror_bad_lines\u001b[0m \u001b[1;33m=\u001b[0m \u001b[1;32mFalse\u001b[0m\u001b[1;33m)\u001b[0m\u001b[1;33m\u001b[0m\u001b[0m\n\u001b[0m\u001b[0;32m     17\u001b[0m \u001b[0mdf2\u001b[0m \u001b[1;33m=\u001b[0m \u001b[0mdf1\u001b[0m\u001b[1;33m.\u001b[0m\u001b[0mset_index\u001b[0m\u001b[1;33m(\u001b[0m\u001b[1;34m\"date\"\u001b[0m\u001b[1;33m,\u001b[0m \u001b[0mdrop\u001b[0m\u001b[1;33m=\u001b[0m\u001b[1;32mFalse\u001b[0m\u001b[1;33m)\u001b[0m\u001b[1;33m\u001b[0m\u001b[0m\n\u001b[0;32m     18\u001b[0m \u001b[1;33m\u001b[0m\u001b[0m\n",
      "\u001b[1;32mc:\\users\\sander\\appdata\\local\\programs\\python\\python36-32\\lib\\site-packages\\pandas\\io\\parsers.py\u001b[0m in \u001b[0;36mparser_f\u001b[1;34m(filepath_or_buffer, sep, delimiter, header, names, index_col, usecols, squeeze, prefix, mangle_dupe_cols, dtype, engine, converters, true_values, false_values, skipinitialspace, skiprows, nrows, na_values, keep_default_na, na_filter, verbose, skip_blank_lines, parse_dates, infer_datetime_format, keep_date_col, date_parser, dayfirst, iterator, chunksize, compression, thousands, decimal, lineterminator, quotechar, quoting, escapechar, comment, encoding, dialect, tupleize_cols, error_bad_lines, warn_bad_lines, skipfooter, doublequote, delim_whitespace, low_memory, memory_map, float_precision)\u001b[0m\n\u001b[0;32m    676\u001b[0m                     skip_blank_lines=skip_blank_lines)\n\u001b[0;32m    677\u001b[0m \u001b[1;33m\u001b[0m\u001b[0m\n\u001b[1;32m--> 678\u001b[1;33m         \u001b[1;32mreturn\u001b[0m \u001b[0m_read\u001b[0m\u001b[1;33m(\u001b[0m\u001b[0mfilepath_or_buffer\u001b[0m\u001b[1;33m,\u001b[0m \u001b[0mkwds\u001b[0m\u001b[1;33m)\u001b[0m\u001b[1;33m\u001b[0m\u001b[0m\n\u001b[0m\u001b[0;32m    679\u001b[0m \u001b[1;33m\u001b[0m\u001b[0m\n\u001b[0;32m    680\u001b[0m     \u001b[0mparser_f\u001b[0m\u001b[1;33m.\u001b[0m\u001b[0m__name__\u001b[0m \u001b[1;33m=\u001b[0m \u001b[0mname\u001b[0m\u001b[1;33m\u001b[0m\u001b[0m\n",
      "\u001b[1;32mc:\\users\\sander\\appdata\\local\\programs\\python\\python36-32\\lib\\site-packages\\pandas\\io\\parsers.py\u001b[0m in \u001b[0;36m_read\u001b[1;34m(filepath_or_buffer, kwds)\u001b[0m\n\u001b[0;32m    444\u001b[0m \u001b[1;33m\u001b[0m\u001b[0m\n\u001b[0;32m    445\u001b[0m     \u001b[1;32mtry\u001b[0m\u001b[1;33m:\u001b[0m\u001b[1;33m\u001b[0m\u001b[0m\n\u001b[1;32m--> 446\u001b[1;33m         \u001b[0mdata\u001b[0m \u001b[1;33m=\u001b[0m \u001b[0mparser\u001b[0m\u001b[1;33m.\u001b[0m\u001b[0mread\u001b[0m\u001b[1;33m(\u001b[0m\u001b[0mnrows\u001b[0m\u001b[1;33m)\u001b[0m\u001b[1;33m\u001b[0m\u001b[0m\n\u001b[0m\u001b[0;32m    447\u001b[0m     \u001b[1;32mfinally\u001b[0m\u001b[1;33m:\u001b[0m\u001b[1;33m\u001b[0m\u001b[0m\n\u001b[0;32m    448\u001b[0m         \u001b[0mparser\u001b[0m\u001b[1;33m.\u001b[0m\u001b[0mclose\u001b[0m\u001b[1;33m(\u001b[0m\u001b[1;33m)\u001b[0m\u001b[1;33m\u001b[0m\u001b[0m\n",
      "\u001b[1;32mc:\\users\\sander\\appdata\\local\\programs\\python\\python36-32\\lib\\site-packages\\pandas\\io\\parsers.py\u001b[0m in \u001b[0;36mread\u001b[1;34m(self, nrows)\u001b[0m\n\u001b[0;32m   1034\u001b[0m                 \u001b[1;32mraise\u001b[0m \u001b[0mValueError\u001b[0m\u001b[1;33m(\u001b[0m\u001b[1;34m'skipfooter not supported for iteration'\u001b[0m\u001b[1;33m)\u001b[0m\u001b[1;33m\u001b[0m\u001b[0m\n\u001b[0;32m   1035\u001b[0m \u001b[1;33m\u001b[0m\u001b[0m\n\u001b[1;32m-> 1036\u001b[1;33m         \u001b[0mret\u001b[0m \u001b[1;33m=\u001b[0m \u001b[0mself\u001b[0m\u001b[1;33m.\u001b[0m\u001b[0m_engine\u001b[0m\u001b[1;33m.\u001b[0m\u001b[0mread\u001b[0m\u001b[1;33m(\u001b[0m\u001b[0mnrows\u001b[0m\u001b[1;33m)\u001b[0m\u001b[1;33m\u001b[0m\u001b[0m\n\u001b[0m\u001b[0;32m   1037\u001b[0m \u001b[1;33m\u001b[0m\u001b[0m\n\u001b[0;32m   1038\u001b[0m         \u001b[1;31m# May alter columns / col_dict\u001b[0m\u001b[1;33m\u001b[0m\u001b[1;33m\u001b[0m\u001b[0m\n",
      "\u001b[1;32mc:\\users\\sander\\appdata\\local\\programs\\python\\python36-32\\lib\\site-packages\\pandas\\io\\parsers.py\u001b[0m in \u001b[0;36mread\u001b[1;34m(self, nrows)\u001b[0m\n\u001b[0;32m   1846\u001b[0m     \u001b[1;32mdef\u001b[0m \u001b[0mread\u001b[0m\u001b[1;33m(\u001b[0m\u001b[0mself\u001b[0m\u001b[1;33m,\u001b[0m \u001b[0mnrows\u001b[0m\u001b[1;33m=\u001b[0m\u001b[1;32mNone\u001b[0m\u001b[1;33m)\u001b[0m\u001b[1;33m:\u001b[0m\u001b[1;33m\u001b[0m\u001b[0m\n\u001b[0;32m   1847\u001b[0m         \u001b[1;32mtry\u001b[0m\u001b[1;33m:\u001b[0m\u001b[1;33m\u001b[0m\u001b[0m\n\u001b[1;32m-> 1848\u001b[1;33m             \u001b[0mdata\u001b[0m \u001b[1;33m=\u001b[0m \u001b[0mself\u001b[0m\u001b[1;33m.\u001b[0m\u001b[0m_reader\u001b[0m\u001b[1;33m.\u001b[0m\u001b[0mread\u001b[0m\u001b[1;33m(\u001b[0m\u001b[0mnrows\u001b[0m\u001b[1;33m)\u001b[0m\u001b[1;33m\u001b[0m\u001b[0m\n\u001b[0m\u001b[0;32m   1849\u001b[0m         \u001b[1;32mexcept\u001b[0m \u001b[0mStopIteration\u001b[0m\u001b[1;33m:\u001b[0m\u001b[1;33m\u001b[0m\u001b[0m\n\u001b[0;32m   1850\u001b[0m             \u001b[1;32mif\u001b[0m \u001b[0mself\u001b[0m\u001b[1;33m.\u001b[0m\u001b[0m_first_chunk\u001b[0m\u001b[1;33m:\u001b[0m\u001b[1;33m\u001b[0m\u001b[0m\n",
      "\u001b[1;32mpandas\\_libs\\parsers.pyx\u001b[0m in \u001b[0;36mpandas._libs.parsers.TextReader.read\u001b[1;34m()\u001b[0m\n",
      "\u001b[1;32mpandas\\_libs\\parsers.pyx\u001b[0m in \u001b[0;36mpandas._libs.parsers.TextReader._read_low_memory\u001b[1;34m()\u001b[0m\n",
      "\u001b[1;32mpandas\\_libs\\parsers.pyx\u001b[0m in \u001b[0;36mpandas._libs.parsers.TextReader._read_rows\u001b[1;34m()\u001b[0m\n",
      "\u001b[1;32mpandas\\_libs\\parsers.pyx\u001b[0m in \u001b[0;36mpandas._libs.parsers.TextReader._tokenize_rows\u001b[1;34m()\u001b[0m\n",
      "\u001b[1;32mpandas\\_libs\\parsers.pyx\u001b[0m in \u001b[0;36mpandas._libs.parsers.raise_parser_error\u001b[1;34m()\u001b[0m\n",
      "\u001b[1;31mParserError\u001b[0m: Error tokenizing data. C error: out of memory"
     ]
    }
   ],
   "source": [
    "# KOPIEER DEZE CODE ERGENS WAAR JE CSV BESTAND STAAT, DAN WERKT HET\n",
    "\n",
    "import matplotlib.pyplot as plt\n",
    "%matplotlib inline\n",
    "# Load library\n",
    "import numpy as np\n",
    "import pandas as pd\n",
    "import csv\n",
    "\n",
    "# Lente: 21 maart t/m 20 juni\n",
    "# Zomer: 21 juni t/m 20 september\n",
    "# Herfst: 21 september t/m 20 december\n",
    "# Winter: 21 december t/m 20 maart\n",
    "   \n",
    "# !!! DIT WERKT WEL !!!\n",
    "df1 = pd.read_csv(\"DataGuns.csv\", error_bad_lines = False)\n",
    "df2 = df1.set_index(\"date\", drop=False)\n",
    "\n",
    "\n",
    "# lente 2014\n",
    "dfl14 = df2.loc[\"3-21-2014\":\"6-20-2014\", \"one\":\"n_injured\"]\n",
    "il14 = dfl14[\"one\"].sum()\n",
    "dl14 = dfl14[\"n_killed\"].sum()\n",
    "gl14 = dfl14[\"n_injured\"].sum()\n",
    "\n",
    "# zomer 2014\n",
    "dfz14 = df2.loc[\"6-21-2014\":\"9-20-2014\", \"one\":\"n_injured\"]\n",
    "iz14 = dfz14[\"one\"].sum()\n",
    "dz14 = dfz14[\"n_killed\"].sum()\n",
    "gz14 = dfz14[\"n_injured\"].sum()\n",
    "\n",
    "# herfst 2014\n",
    "dfh14 = df2.loc[\"9-21-2014\":\"12-20-2014\", \"one\":\"n_injured\"]\n",
    "ih14 = dfh14[\"one\"].sum()\n",
    "dh14 = dfh14[\"n_killed\"].sum()\n",
    "gh14 = dfh14[\"n_injured\"].sum()\n",
    "\n",
    "# winter 2014\n",
    "dfw14 = df2.loc[\"12-21-2014\":\"3-20-2015\", \"one\":\"n_injured\"]\n",
    "iw14 = dfw14[\"one\"].sum()\n",
    "dw14 = dfw14[\"n_killed\"].sum()\n",
    "gw14 = dfw14[\"n_injured\"].sum()\n",
    "\n",
    "# lente 2015\n",
    "dfl15 = df2.loc[\"3-21-2015\":\"6-20-2015\", \"one\":\"n_injured\"]\n",
    "il15 = dfl15[\"one\"].sum()\n",
    "dl15 = dfl15[\"n_killed\"].sum()\n",
    "gl15 = dfl15[\"n_injured\"].sum()\n",
    "\n",
    "# zomer 2015\n",
    "dfz15 = df2.loc[\"6-21-2015\":\"9-20-2015\", \"one\":\"n_injured\"]\n",
    "iz15 = dfz15[\"one\"].sum()\n",
    "dz15 = dfz15[\"n_killed\"].sum()\n",
    "gz15 = dfz15[\"n_injured\"].sum()\n",
    "\n",
    "# herfst 2015\n",
    "dfh15 = df2.loc[\"9-21-2015\":\"12-20-2015\", \"one\":\"n_injured\"]\n",
    "ih15 = dfh15[\"one\"].sum()\n",
    "dh15 = dfh15[\"n_killed\"].sum()\n",
    "gh15 = dfh15[\"n_injured\"].sum()\n",
    "\n",
    "# winter 2015\n",
    "dfw15 = df2.loc[\"12-21-2015\":\"3-20-2016\", \"one\":\"n_injured\"]\n",
    "iw15= dfw15[\"one\"].sum()\n",
    "dw15 = dfw15[\"n_killed\"].sum()\n",
    "gw15 = dfw15[\"n_injured\"].sum()\n",
    "\n",
    "# lente 2016\n",
    "dfl16 = df2.loc[\"3-21-2016\":\"6-20-2016\", \"one\":\"n_injured\"]\n",
    "il16 = dfl16[\"one\"].sum()\n",
    "dl16 = dfl16[\"n_killed\"].sum()\n",
    "gl16 = dfl16[\"n_injured\"].sum()\n",
    "\n",
    "# zomer 2016\n",
    "dfz16 = df2.loc[\"6-21-2016\":\"9-20-2016\", \"one\":\"n_injured\"]\n",
    "iz16 = dfz16[\"one\"].sum()\n",
    "dz16 = dfz16[\"n_killed\"].sum()\n",
    "gz16 = dfz16[\"n_injured\"].sum()\n",
    "\n",
    "# herfst 2016\n",
    "dfh16 = df2.loc[\"9-21-2016\":\"12-20-2016\", \"one\":\"n_injured\"]\n",
    "ih16 = dfh16[\"one\"].sum()\n",
    "dh16 = dfh16[\"n_killed\"].sum()\n",
    "gh16 = dfh16[\"n_injured\"].sum()\n",
    "\n",
    "# winter 2016\n",
    "dfw16 = df2.loc[\"12-21-2016\":\"3-20-2017\", \"one\":\"n_injured\"]\n",
    "iw16 = dfw16[\"one\"].sum()\n",
    "dw16 = dfw16[\"n_killed\"].sum()\n",
    "gw16 = dfw16[\"n_injured\"].sum()\n",
    "\n",
    "\n",
    "# il14 = dfl14[\"one\"].sum()\n",
    "# dl14 = dfl14[\"n_killed\"].sum()\n",
    "# gl14 = dfl14[\"n_injured\"].sum()\n",
    "\n",
    "# z14 = \n",
    "# h14 = \n",
    "# w15 =\n",
    "# l15 =\n",
    "# z15 =\n",
    "# h15 =\n",
    "# w16 = \n",
    "# l16 =\n",
    "# z16 = \n",
    "# h16 =\n",
    "# w16 =\n",
    "\n",
    "# print(dfl14[\"n_killed\"].sum())\n",
    "# print(dfl14[\"n_injured\"].sum())\n",
    "\n",
    "# print(dfz15[\"one\"].sum())\n",
    "# print(dfz15[\"n_killed\"].sum())\n",
    "# print(dfz15[\"n_injured\"].sum())\n",
    "\n",
    "# print(dfw16[\"one\"].sum())\n",
    "# print(dfw16[\"n_killed\"].sum())\n",
    "# print(dfw16[\"n_injured\"].sum())\n",
    "\n",
    "\n",
    "# print(dfw14)\n",
    "df13 = df2.loc[\"1-1-2013\":\"12-31-2013\", \"state\":\"state_senate_district\"]\n",
    "df14 = df2.loc[\"1-1-2014\":\"12-31-2014\", \"state\":\"state_senate_district\"]\n",
    "df15 = df2.loc[\"1-1-2015\":\"12-31-2015\", \"state\":\"state_senate_district\"]\n",
    "df16 = df2.loc[\"1-1-2016\":\"12-31-2016\", \"state\":\"state_senate_district\"]\n",
    "df17 = df2.loc[\"1-1-2017\":\"12-31-2017\", \"state\":\"state_senate_district\"]\n",
    "df18 = df2.loc[\"1-1-2018\":\"3-31-2018\", \"state\":\"state_senate_district\"]\n",
    "\n",
    "number_killed_2013 = df13[\"n_killed\"].sum()\n",
    "number_injured_2013 = df13[\"n_injured\"].sum()\n",
    "\n",
    "number_killed_2014 = df14[\"n_killed\"].sum()\n",
    "number_injured_2014 = df14[\"n_injured\"].sum()\n",
    "\n",
    "number_killed_2015 = df15[\"n_killed\"].sum()\n",
    "number_injured_2015 = df15[\"n_injured\"].sum()\n",
    "\n",
    "number_killed_2016 = df16[\"n_killed\"].sum()\n",
    "number_injured_2016 = df16[\"n_injured\"].sum()\n",
    "\n",
    "number_killed_2017 = df17[\"n_killed\"].sum()\n",
    "number_injured_2017 = df17[\"n_injured\"].sum()\n",
    "\n",
    "number_killed_2018 = df18[\"n_killed\"].sum()\n",
    "number_injured_2018 = df18[\"n_injured\"].sum()\n",
    "\n",
    "il = (il14 + il15 + il16) / 3\n",
    "iz = (iz14 + iz15 + iz16) / 3\n",
    "ih = (ih14 + ih15 + ih16) / 3\n",
    "iw = (iw14 + iw15 + iw16) / 3\n",
    "\n",
    "dl = (dl14 + dl15 + dl16) / 3\n",
    "dz = (dz14 + dz15 + dz16) / 3\n",
    "dh = (dh14 + dh15 + dh16) / 3\n",
    "dw = (dw14 + dw15 + dw16) / 3\n",
    "\n",
    "gl = (gl14 + gl15 + gl16) / 3\n",
    "gz = (gz14 + gz15 + gz16) / 3\n",
    "gh = (gh14 + gh15 + gh16) / 3\n",
    "gw = (gw14 + gw15 + gw16) / 3\n"
   ]
  },
  {
   "cell_type": "code",
   "execution_count": 25,
   "metadata": {},
   "outputs": [
    {
     "data": {
      "text/html": [
       "<iframe id=\"igraph\" scrolling=\"no\" style=\"border:none;\" seamless=\"seamless\" src=\"https://plot.ly/~SanderVonk/26.embed\" height=\"525px\" width=\"100%\"></iframe>"
      ],
      "text/plain": [
       "<plotly.tools.PlotlyDisplay object>"
      ]
     },
     "execution_count": 25,
     "metadata": {},
     "output_type": "execute_result"
    }
   ],
   "source": [
    "# staafdiagram\n",
    "\n",
    "import plotly.plotly as py\n",
    "import plotly.graph_objs as go\n",
    "\n",
    "inc = go.Bar(\n",
    "    x=['lente 2014', 'zomer 2014', 'herfst 2014', 'winter 2014', 'lente 2015', 'zomer 2015', 'herfst 2015', 'winter 2015', 'lente 2016', 'zomer 2016', 'herfst 2016', 'winter 2016'],\n",
    "    y=[il14, iz14, ih14, iw14, il15, iz15, ih15, iw15, il16, iz16, ih16, iw16],\n",
    "    name='Aantal incidenten'\n",
    ")\n",
    "dood = go.Bar(\n",
    "    x=['lente 2014', 'zomer 2014', 'herfst 2014', 'winter 2014', 'lente 2015', 'zomer 2015', 'herfst 2015', 'winter 2015', 'lente 2016', 'zomer 2016', 'herfst 2016', 'winter 2016'],\n",
    "    y=[dl14, dz14, dh14, dw14, dl15, dz15, dh15, dw15, dl16, dz16, dh16, dw16],\n",
    "    name='Aantal doden'\n",
    ")\n",
    "gew = go.Bar(\n",
    "    x=['lente 2014', 'zomer 2014', 'herfst 2014', 'winter 2014', 'lente 2015', 'zomer 2015', 'herfst 2015', 'winter 2015', 'lente 2016', 'zomer 2016', 'herfst 2016', 'winter 2016'],\n",
    "    y=[gl14, gz14, gh14, gw14, gl15, gz15, gh15, gw15, gl16, gz16, gh16, gw16],\n",
    "    name='Aantal gewonden'\n",
    ")\n",
    "\n",
    "\n",
    "data = [inc, dood, gew]\n",
    "layout = go.Layout(\n",
    "    barmode='group'\n",
    ")\n",
    "\n",
    "fig = go.Figure(data=data, layout=layout)\n",
    "py.iplot(fig, filename='staafdiagram')"
   ]
  },
  {
   "cell_type": "code",
   "execution_count": 26,
   "metadata": {},
   "outputs": [
    {
     "data": {
      "text/html": [
       "<iframe id=\"igraph\" scrolling=\"no\" style=\"border:none;\" seamless=\"seamless\" src=\"https://plot.ly/~SanderVonk/28.embed\" height=\"525px\" width=\"100%\"></iframe>"
      ],
      "text/plain": [
       "<plotly.tools.PlotlyDisplay object>"
      ]
     },
     "execution_count": 26,
     "metadata": {},
     "output_type": "execute_result"
    }
   ],
   "source": [
    "# cirkeldiagram incidenten over 3 jaar gemiddeld\n",
    "labels = ['Lente','Zomer','Herfst','Winter']\n",
    "values = [il,iz,ih,iw]\n",
    "\n",
    "trace = go.Pie(labels=labels, values=values)\n",
    "\n",
    "py.iplot([trace], filename='incidenten')\n"
   ]
  },
  {
   "cell_type": "code",
   "execution_count": 27,
   "metadata": {},
   "outputs": [
    {
     "data": {
      "text/html": [
       "<iframe id=\"igraph\" scrolling=\"no\" style=\"border:none;\" seamless=\"seamless\" src=\"https://plot.ly/~SanderVonk/24.embed\" height=\"525px\" width=\"100%\"></iframe>"
      ],
      "text/plain": [
       "<plotly.tools.PlotlyDisplay object>"
      ]
     },
     "execution_count": 27,
     "metadata": {},
     "output_type": "execute_result"
    }
   ],
   "source": [
    "# cirkeldiagram doden over 3 jaar gemiddeld\n",
    "labels = ['Lente','Zomer','Herfst','Winter']\n",
    "values = [dl,dz,dh,dw]\n",
    "\n",
    "trace = go.Pie(labels=labels, values=values)\n",
    "\n",
    "py.iplot([trace], filename='doden')"
   ]
  },
  {
   "cell_type": "code",
   "execution_count": 28,
   "metadata": {},
   "outputs": [
    {
     "data": {
      "text/html": [
       "<iframe id=\"igraph\" scrolling=\"no\" style=\"border:none;\" seamless=\"seamless\" src=\"https://plot.ly/~SanderVonk/22.embed\" height=\"525px\" width=\"100%\"></iframe>"
      ],
      "text/plain": [
       "<plotly.tools.PlotlyDisplay object>"
      ]
     },
     "execution_count": 28,
     "metadata": {},
     "output_type": "execute_result"
    }
   ],
   "source": [
    "# cirkeldiagram gewonden over 3 jaar gemiddeld\n",
    "labels = ['Lente','Zomer','Herfst','Winter']\n",
    "values = [gl,gz,gh,gw]\n",
    "\n",
    "trace = go.Pie(labels=labels, values=values)\n",
    "\n",
    "py.iplot([trace], filename='gewonden')"
   ]
  },
  {
   "cell_type": "code",
   "execution_count": 32,
   "metadata": {},
   "outputs": [
    {
     "data": {
      "text/html": [
       "<iframe id=\"igraph\" scrolling=\"no\" style=\"border:none;\" seamless=\"seamless\" src=\"https://plot.ly/~SanderVonk/30.embed\" height=\"525px\" width=\"100%\"></iframe>"
      ],
      "text/plain": [
       "<plotly.tools.PlotlyDisplay object>"
      ]
     },
     "execution_count": 32,
     "metadata": {},
     "output_type": "execute_result"
    }
   ],
   "source": [
    "ltot = il + dl + gl\n",
    "ztot = iz + dz + gz\n",
    "htot = ih + dh + gh\n",
    "wtot = iw + dw + gw\n",
    "\n",
    "# cirkeldiagram incidenten+doden+gewonden over 3 jaar gemiddeld\n",
    "labels = ['Lente','Zomer','Herfst','Winter']\n",
    "values = [ltot,ztot,htot,wtot]\n",
    "\n",
    "trace = go.Pie(labels=labels, values=values)\n",
    "\n",
    "py.iplot([trace], filename='totaal')"
   ]
  },
  {
   "cell_type": "code",
   "execution_count": null,
   "metadata": {},
   "outputs": [],
   "source": []
  }
 ],
 "metadata": {
  "kernelspec": {
   "display_name": "Python 3",
   "language": "python",
   "name": "python3"
  },
  "language_info": {
   "codemirror_mode": {
    "name": "ipython",
    "version": 3
   },
   "file_extension": ".py",
   "mimetype": "text/x-python",
   "name": "python",
   "nbconvert_exporter": "python",
   "pygments_lexer": "ipython3",
   "version": "3.6.5"
  }
 },
 "nbformat": 4,
 "nbformat_minor": 2
}
