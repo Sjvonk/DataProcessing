{
 "cells": [
  {
   "cell_type": "code",
   "execution_count": 1,
   "metadata": {},
   "outputs": [
    {
     "name": "stdout",
     "output_type": "stream",
     "text": [
      "NNNN:  408\n",
      "NNN:  33081\n",
      "NN:  81746\n",
      "N:  108062\n",
      "S:  7165\n",
      "SS:  56\n",
      "SSS:  955\n",
      "SSSS:  8204 \n",
      "\n",
      "EEEE:  47281\n",
      "EEE:  111622\n",
      "EE:  37749\n",
      "E:  11219\n",
      "W:  22314\n",
      "WW:  137\n",
      "WWW:  1033\n",
      "WWWW:  8322\n"
     ]
    }
   ],
   "source": [
    "import matplotlib.pyplot as plt\n",
    "%matplotlib inline\n",
    "import numpy as np\n",
    "import pandas as pd\n",
    "import csv\n",
    "\n",
    "# data inladen\n",
    "df1 = pd.read_csv(\"DataGun.csv\")"
   ]
  },
  {
   "cell_type": "code",
   "execution_count": 2,
   "metadata": {},
   "outputs": [
    {
     "name": "stdout",
     "output_type": "stream",
     "text": [
      "NNNN:  408\n",
      "NNN:  33081\n",
      "NN:  81746\n",
      "N:  108062\n",
      "S:  7165\n",
      "SS:  56\n",
      "SSS:  955\n",
      "SSSS:  8204 \n",
      "\n",
      "EEEE:  47281\n",
      "EEE:  111622\n",
      "EE:  37749\n",
      "E:  11219\n",
      "W:  22314\n",
      "WW:  137\n",
      "WWW:  1033\n",
      "WWWW:  8322\n"
     ]
    }
   ],
   "source": [
    "# Dit is de eerste methode voor het behandelen van de vraag\n",
    "\n",
    "# Amerika wordt 2x in 8 delen verdeeld van oost naar west en noord naar zuid.\n",
    "EEEE = 0\n",
    "EEE = 0\n",
    "EE = 0\n",
    "E = 0\n",
    "W = 0\n",
    "WW = 0\n",
    "WWW = 0\n",
    "WWWW = 0\n",
    "\n",
    "NNNN = 0\n",
    "NNN = 0\n",
    "NN = 0\n",
    "N = 0\n",
    "S = 0\n",
    "SS = 0\n",
    "SSS = 0\n",
    "SSSS = 0\n",
    "    \n",
    "\n",
    "# schietincidenten worden bij juiste gebieden opgeteld\n",
    "\n",
    "for i in df1[\"latitude\"]:\n",
    "    if i < 25.5:\n",
    "        NNNN += 1\n",
    "    elif i < 32:\n",
    "        NNN += 1\n",
    "    elif i < 38.5:\n",
    "        NN += 1\n",
    "    elif i < 45:\n",
    "        N += 1\n",
    "    elif i < 51.5:\n",
    "        S += 1\n",
    "    elif i < 58:\n",
    "        SS += 1\n",
    "    elif i < 64.5:\n",
    "        SSS += 1\n",
    "    else:\n",
    "        SSSS += 1\n",
    "    \n",
    "for i in df1[\"longitude\"]:\n",
    "    if i > -77.75 and i < -65:\n",
    "        EEEE += 1\n",
    "    elif i > -90.25:\n",
    "        EEE += 1\n",
    "    elif i > -103:\n",
    "        EE += 1\n",
    "    elif i > -115.75:\n",
    "        E += 1\n",
    "    elif i > -128.5:\n",
    "        W += 1\n",
    "    elif i > -141.25:\n",
    "        WW += 1\n",
    "    elif i > -153.75:\n",
    "        WWW += 1\n",
    "    else:\n",
    "        WWWW += 1\n",
    "\n",
    "print('NNNN: ',NNNN)\n",
    "print('NNN: ', NNN)\n",
    "print('NN: ', NN)\n",
    "print('N: ', N)\n",
    "print('S: ', S)\n",
    "print('SS: ',SS)\n",
    "print('SSS: ', SSS)\n",
    "print('SSSS: ', SSSS, '\\n')\n",
    "\n",
    "print('EEEE: ',EEEE)\n",
    "print('EEE: ', EEE)\n",
    "print('EE: ', EE)\n",
    "print('E: ', E)\n",
    "print('W: ', W)\n",
    "print('WW: ',WW)\n",
    "print('WWW: ', WWW)\n",
    "print('WWWW: ', WWWW)"
   ]
  },
  {
   "cell_type": "code",
   "execution_count": 3,
   "metadata": {},
   "outputs": [
    {
     "name": "stdout",
     "output_type": "stream",
     "text": [
      "incidents per person in the north:  0.0005698400809719287\n",
      "incidents per person in the middle:  0.0007777130581822106\n",
      "incidents per person in the south:  0.0009149258464198954\n",
      "incidents per person in the east:  0.0004888517618704351\n",
      "incidents per person in the middle:  0.000664251469109643\n",
      "incidents per person in the west:  0.0009048345609708088\n"
     ]
    }
   ],
   "source": [
    "# Dit is de tweede methode\n",
    "\n",
    "# De staten worden in 3 gebieden van noord naar zuid onderverdeeld\n",
    "N = ['Washington', 'Oregon', 'Idaho', 'North Dakota', 'South Dakota', 'Minnesota', 'Wisconsin', 'michigan', 'Pennsylvania', 'New Jersey', 'New York', 'Rhode Island', 'Connecticut', 'Massachusetts', 'Vermont', 'New Hampshire', 'Maine', 'Wyoming']\n",
    "Mns = ['California', 'Nevada', 'Utah', 'Colorado', 'Nebraska', 'Kansas', 'Missouri', 'Iowa', 'Illinois', 'Indiana', 'Kentucky', 'Ohio', 'Virginia', 'West Virginia']\n",
    "S = ['Arizona', 'New Mexico', 'Texas', 'Oklahoma', 'Arkansas', 'Louisiana', 'Tennessee', 'Mississippi', 'Alabama', 'Georgia', 'North Carolina', 'South Carolina', 'Florida']\n",
    "\n",
    "N_incidents = 0\n",
    "Mns_incidents = 0\n",
    "S_incidents = 0\n",
    "\n",
    "# incidenten worden opnieuw bij gebieden opgeteld\n",
    "for i in df1['state']:\n",
    "    if i in N:\n",
    "        N_incidents+=1\n",
    "    if i in Mns:\n",
    "        Mns_incidents+=1\n",
    "    if i in S:\n",
    "        S_incidents+=1\n",
    "        \n",
    "\n",
    "# per gebied wordt door het aantal inwoners gedeeld        \n",
    "N_inc = N_incidents / 90377988\n",
    "Mns_inc = Mns_incidents / 103904646\n",
    "S_inc = S_incidents / 96486508\n",
    "\n",
    "print('incidents per person in the north: ', N_inc)\n",
    "print('incidents per person in the middle: ', Mns_inc)\n",
    "print('incidents per person in the south: ', S_inc)\n",
    "\n",
    "\n",
    "# Gebieden worden in oost en west onderverdeeld\n",
    "E = ['California', 'Washington', 'Oregon', 'Nevada']\n",
    "Mew = ['North Dakota', 'South Dakota', 'Oklahoma', 'Texas', 'Nebraska', 'Kansas']\n",
    "W = ['New York', 'Florida', 'North Carolina', 'South Carolina', 'Maine', 'Virginia', 'Georgia', 'Pennsylvania']\n",
    "\n",
    "E_incidents = 0\n",
    "Mew_incidents = 0\n",
    "W_incidents = 0\n",
    "\n",
    "# incidenten worden bij gebied opgeteld\n",
    "for i in df1['state']:\n",
    "    if i in E:\n",
    "        E_incidents+=1\n",
    "    if i in Mew:\n",
    "        Mew_incidents+=1\n",
    "    if i in W:\n",
    "        W_incidents+=1\n",
    "        \n",
    "\n",
    "# incidenten worden gedeeld door het aantal inwoners        \n",
    "E_inc = E_incidents / 49049634\n",
    "Mew_inc = Mew_incidents / 33037187\n",
    "W_inc = W_incidents / 71978904\n",
    "\n",
    "print('incidents per person in the east: ', E_inc)\n",
    "print('incidents per person in the middle: ', Mew_inc)\n",
    "print('incidents per person in the west: ', W_inc)"
   ]
  },
  {
   "cell_type": "code",
   "execution_count": 4,
   "metadata": {},
   "outputs": [
    {
     "data": {
      "text/html": [
       "<iframe id=\"igraph\" scrolling=\"no\" style=\"border:none;\" seamless=\"seamless\" src=\"https://plot.ly/~prinsjur/6.embed\" height=\"525px\" width=\"100%\"></iframe>"
      ],
      "text/plain": [
       "<plotly.tools.PlotlyDisplay object>"
      ]
     },
     "execution_count": 4,
     "metadata": {},
     "output_type": "execute_result"
    }
   ],
   "source": [
    "import plotly.plotly as py\n",
    "import plotly.graph_objs as go\n",
    "\n",
    "#staaf grafiek van noord naar zuid wordt ingeladen\n",
    "data = [go.Bar(\n",
    "            x=['North', 'Middle', 'South'],\n",
    "            y=[N_inc, Mns_inc, S_inc]\n",
    "    )]\n",
    "\n",
    "py.iplot(data, filename='North west bar')"
   ]
  },
  {
   "cell_type": "code",
   "execution_count": 5,
   "metadata": {},
   "outputs": [
    {
     "data": {
      "text/html": [
       "<iframe id=\"igraph\" scrolling=\"no\" style=\"border:none;\" seamless=\"seamless\" src=\"https://plot.ly/~prinsjur/4.embed\" height=\"525px\" width=\"100%\"></iframe>"
      ],
      "text/plain": [
       "<plotly.tools.PlotlyDisplay object>"
      ]
     },
     "execution_count": 5,
     "metadata": {},
     "output_type": "execute_result"
    }
   ],
   "source": [
    "# staafgrafiek van oost naar west wordt ingeladen\n",
    "data = [go.Bar(\n",
    "            x=['East', 'Middle', 'West'],\n",
    "            y=[E_inc, Mew_inc, W_inc]\n",
    "    )]\n",
    "\n",
    "py.iplot(data, filename='East west bar')"
   ]
  },
  {
   "cell_type": "code",
   "execution_count": null,
   "metadata": {},
   "outputs": [],
   "source": []
  }
 ],
 "metadata": {
  "kernelspec": {
   "display_name": "Python 3",
   "language": "python",
   "name": "python3"
  },
  "language_info": {
   "codemirror_mode": {
    "name": "ipython",
    "version": 3
   },
   "file_extension": ".py",
   "mimetype": "text/x-python",
   "name": "python",
   "nbconvert_exporter": "python",
   "pygments_lexer": "ipython3",
   "version": "3.6.5"
  }
 },
 "nbformat": 4,
 "nbformat_minor": 2
}
