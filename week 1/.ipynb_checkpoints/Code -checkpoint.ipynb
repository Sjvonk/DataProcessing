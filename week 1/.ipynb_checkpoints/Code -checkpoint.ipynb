{
 "cells": [
  {
   "cell_type": "code",
   "execution_count": 2,
   "metadata": {},
   "outputs": [
    {
     "name": "stdout",
     "output_type": "stream",
     "text": [
      "11\n",
      "317\n",
      "979\n"
     ]
    }
   ],
   "source": [
    "# KOPIEER DEZE CODE ERGENS WAAR JE CSV BESTAND STAAT, DAN WERKT HET\n",
    "\n",
    "import matplotlib.pyplot as plt\n",
    "%matplotlib inline\n",
    "# Load library\n",
    "import numpy as np\n",
    "import pandas as pd\n",
    "import csv\n",
    "\n",
    "# !!!!BEZIG HIERMEE, HET WRITEN LUKT NIET OFZO!!!!\n",
    "df5 = pd.read_csv(\"DataGun.csv\")\n",
    "df6 = df5.replace('', np.nan, regex=True)\n",
    "print(df6)\n",
    "df6.to_csv('test.csv', index=False)\n",
    "\n",
    "# !!! DIT WERKT WEL !!!\n",
    "df1 = pd.read_csv(\"DataGun.csv\")\n",
    "\n",
    "df2 = df1.set_index(\"date\", drop=False)\n",
    "\n",
    "df3 = df2.loc[\"1/1/2013\":\"12/31/2013\", \"state\":\"state_senate_district\"]\n",
    "\n",
    "\n",
    "# Andere manier om alles te checken maar werkt ook niet HELP!\n",
    "# with open('DataGun.csv') as csv_file:\n",
    "#     for row in csv.reader(csv_file):\n",
    "#          for col in row:\n",
    "#              if col == \"\":\n",
    "#                  col == 'NaN'\n",
    "#         print(row)\n",
    "        \n",
    "\n",
    "number_killed_2013 = df3[\"n_killed\"].sum()\n",
    "number_injured_2013 = df3[\"n_injured\"].sum()\n",
    "\n",
    "print(number_killed_2013)\n",
    "print(number_injured_2013)\n",
    "\n",
    "\n",
    "\n",
    "\n",
    "# Hieronder de alternatieve manier om lege vakjes te vullen met NaN, in het geval dat het bovenstaande niet lukt\n",
    "# df.gun_type = df.gun_type[df.gun_type.str.strip() != '']\n",
    "# print(df.gun_type)"
   ]
  },
  {
   "cell_type": "code",
   "execution_count": null,
   "metadata": {},
   "outputs": [],
   "source": []
  }
 ],
 "metadata": {
  "kernelspec": {
   "display_name": "Python 3",
   "language": "python",
   "name": "python3"
  },
  "language_info": {
   "codemirror_mode": {
    "name": "ipython",
    "version": 3
   },
   "file_extension": ".py",
   "mimetype": "text/x-python",
   "name": "python",
   "nbconvert_exporter": "python",
   "pygments_lexer": "ipython3",
   "version": "3.6.3"
  }
 },
 "nbformat": 4,
 "nbformat_minor": 2
}
