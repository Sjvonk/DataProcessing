{
 "cells": [
  {
   "cell_type": "code",
   "execution_count": 61,
   "metadata": {},
   "outputs": [],
   "source": [
    "# KOPIEER DEZE CODE ERGENS WAAR JE CSV BESTAND STAAT, DAN WERKT HET\n",
    "import csv\n",
    "\n",
    "import matplotlib.pyplot as plt\n",
    "%matplotlib inline\n",
    "# Load library\n",
    "import numpy as np\n",
    "import pandas as pd\n",
    "\n",
    "df1 = pd.read_csv(\"DataGun.csv\")\n",
    "df2 = df1.set_index(\"date\", drop=False)\n",
    "df2.loc[\"01-01-13\":\"12/31/2013\", \"state\":\"state_senate_district\"]\n",
    "\n",
    "with open('data.csv', 'w') as f:\n",
    "    df1.replace(\"\", np.nan)\n",
    "    csv.writer(f)\n",
    "    print(df1, file=f)"
   ]
  },
  {
   "cell_type": "code",
   "execution_count": null,
   "metadata": {},
   "outputs": [],
   "source": []
  }
 ],
 "metadata": {
  "kernelspec": {
   "display_name": "Python 3",
   "language": "python",
   "name": "python3"
  },
  "language_info": {
   "codemirror_mode": {
    "name": "ipython",
    "version": 3
   },
   "file_extension": ".py",
   "mimetype": "text/x-python",
   "name": "python",
   "nbconvert_exporter": "python",
   "pygments_lexer": "ipython3",
   "version": "3.6.3"
  }
 },
 "nbformat": 4,
 "nbformat_minor": 2
}
